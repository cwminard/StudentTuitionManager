{
 "cells": [
  {
   "cell_type": "code",
   "execution_count": 8,
   "id": "4836a366-4142-4659-ad01-40a7df57edb0",
   "metadata": {},
   "outputs": [],
   "source": [
    "# Student Class\n",
    "class Student:\n",
    "\n",
    "    def __init__(self, student_id, student_name, student_balance, next_student):\n",
    "        self.student_id = student_id\n",
    "        self.student_name = student_name\n",
    "        self.student_balance = student_balance\n",
    "        self.next_student = next_student\n",
    "\n",
    "    def get_student_id(self):\n",
    "        return self.student_id\n",
    "    def set_student_id(self, student_id):\n",
    "        self.student_id = student_id\n",
    "\n",
    "    def get_student_name(self):\n",
    "        return self.student_name\n",
    "    def set_student_name(self, student_name):\n",
    "        self.student_name = student_name\n",
    "\n",
    "    def get_student_balance(self):\n",
    "        return self.student_balance\n",
    "    def set_student_balance(self, student_balance):\n",
    "        self.student_balance = student_balance\n",
    "\n",
    "    def get_next_student(self):\n",
    "        return self.next_student\n",
    "    def set_next_student(self, next_student):\n",
    "        self.next_student = next_student\n",
    "        "
   ]
  },
  {
   "cell_type": "code",
   "execution_count": 34,
   "id": "88d7af4f",
   "metadata": {},
   "outputs": [],
   "source": [
    "# Roster Class\n",
    "class Roster:\n",
    "\n",
    "    def __init__(self, student:Student):\n",
    "        self.first_student = student\n",
    "    \n",
    "    def add_student(self, student:Student):\n",
    "        current_student = self.first_student\n",
    "        while current_student != None:\n",
    "            if current_student.get_next_student() == None:\n",
    "                current_student.set_next_student(student)\n",
    "                #print(f\"{current_student.get_student_id()} - {current_student.get_student_name()}\")\n",
    "                return\n",
    "            else:\n",
    "                current_student = current_student.get_next_student()\n",
    "\n",
    "    def show_students(self):\n",
    "        current_student = self.first_student\n",
    "        print(f\"{\"ID\"}  {\"Name\"} {\"Balance\"}\")\n",
    "        while current_student != None:\n",
    "            print(f\"{current_student.get_student_id()} {current_student.get_student_name()} ${current_student.get_student_balance()}\")\n",
    "            current_student = current_student.get_next_student()\n",
    "\n",
    "    def pay_tuition(self, student_id, payment):\n",
    "        current_student = self.first_student\n",
    "        while current_student != None:\n",
    "            if current_student.get_student_id() == student_id:\n",
    "                new_bal = float(current_student.get_student_balance()) - payment\n",
    "                current_student.set_student_balance(new_bal)\n",
    "                current_student = None\n",
    "                self.show_students()\n",
    "            else:\n",
    "                current_student = current_student.get_next_student()\n",
    "\n",
    "\n",
    "    def clear(self):\n",
    "        current_student = self.first_student\n",
    "        prev_student = self.first_student\n",
    "        while current_student != None:\n",
    "            if current_student.get_student_balance() == 0.0:\n",
    "                prev_student.set_next_student(current_student.get_next_student())\n",
    "                #current_student = current.get_next_student()\n",
    "            prev_student = current_student\n",
    "            current_student = current_student.get_next_student()\n"
   ]
  },
  {
   "cell_type": "code",
   "execution_count": 36,
   "id": "3761f01e",
   "metadata": {
    "scrolled": true
   },
   "outputs": [
    {
     "name": "stdout",
     "output_type": "stream",
     "text": [
      "Welcome to the Student Portal!\n",
      "ID  Name Balance\n",
      "101 John $100.0\n",
      "102 Jane $100.0\n",
      "103 Jim $100.0\n",
      "104 Jill $100.0\n",
      "\n",
      "Main Menu: \n",
      "Press (1) to Show Students \n",
      "Press (2) to Add a Student \n",
      "Press (3) to Pay Tution \n",
      "Press (4) to Clear Student with 0 Balance \n",
      "Press (5) to exit\n"
     ]
    },
    {
     "name": "stdin",
     "output_type": "stream",
     "text": [
      "Choice:  3\n",
      "Enter ID:  103\n",
      "Enter Amount to Pay:  100\n"
     ]
    },
    {
     "name": "stdout",
     "output_type": "stream",
     "text": [
      "ID  Name Balance\n",
      "101 John $100.0\n",
      "102 Jane $100.0\n",
      "103 Jim $0.0\n",
      "104 Jill $100.0\n"
     ]
    },
    {
     "name": "stdin",
     "output_type": "stream",
     "text": [
      "Choice:  4\n",
      "Choice:  1\n"
     ]
    },
    {
     "name": "stdout",
     "output_type": "stream",
     "text": [
      "ID  Name Balance\n",
      "101 John $100.0\n",
      "102 Jane $100.0\n",
      "104 Jill $100.0\n"
     ]
    },
    {
     "name": "stdin",
     "output_type": "stream",
     "text": [
      "Choice:  5\n"
     ]
    }
   ],
   "source": [
    "\n",
    "\n",
    "def main_menu():\n",
    "    s1 = Student(101,\"John\", 100.00, None)\n",
    "    s2 = Student(102,\"Jane\", 100.00, None)\n",
    "    s3 = Student(103,\"Jim\", 100.00, None)\n",
    "    s4 = Student(104,\"Jill\", 100.00, None)\n",
    "    \n",
    "    roster = Roster(s1)\n",
    "    roster.add_student(s2)\n",
    "    roster.add_student(s3)\n",
    "    roster.add_student(s4)\n",
    "    user_input = 0\n",
    "    print(\"Welcome to the Student Portal!\")\n",
    "    roster.show_students()\n",
    "    print('\\n'\"Main Menu: \")\n",
    "    print(\"Press (1) to Show Students\",'\\n' \"Press (2) to Add a Student\",'\\n'\"Press (3) to Pay Tution\",'\\n'\"Press (4) to Clear Student with 0 Balance\",'\\n'\"Press (5) to exit\")\n",
    "    while user_input != 5:\n",
    "        user_input = int(input(\"Choice: \"))\n",
    "        if user_input == 1:\n",
    "            roster.show_students()\n",
    "        elif user_input == 2:\n",
    "            id = int(input(\"Enter ID: \"))\n",
    "            name = str(input(\"Enter Name: \"))\n",
    "            bal = float(input(\"Enter Balance: \"))\n",
    "            student = Student(id, name, bal, None)\n",
    "            roster.add_student(student)\n",
    "        elif user_input == 3:\n",
    "            id = int(input(\"Enter ID: \"))\n",
    "            amt = float(input(\"Enter Amount to Pay: \"))\n",
    "            roster.pay_tuition(id,amt)\n",
    "        elif user_input == 4:\n",
    "            roster.clear()\n",
    "\n",
    "main_menu()"
   ]
  }
 ],
 "metadata": {
  "kernelspec": {
   "display_name": "Python 3 (ipykernel)",
   "language": "python",
   "name": "python3"
  },
  "language_info": {
   "codemirror_mode": {
    "name": "ipython",
    "version": 3
   },
   "file_extension": ".py",
   "mimetype": "text/x-python",
   "name": "python",
   "nbconvert_exporter": "python",
   "pygments_lexer": "ipython3",
   "version": "3.12.4"
  }
 },
 "nbformat": 4,
 "nbformat_minor": 5
}
